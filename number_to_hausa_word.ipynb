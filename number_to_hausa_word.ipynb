{
  "nbformat": 4,
  "nbformat_minor": 0,
  "metadata": {
    "colab": {
      "provenance": [],
      "authorship_tag": "ABX9TyNjGN59bTdW6EIs2HkFROG7",
      "include_colab_link": true
    },
    "kernelspec": {
      "name": "python3",
      "display_name": "Python 3"
    },
    "language_info": {
      "name": "python"
    }
  },
  "cells": [
    {
      "cell_type": "markdown",
      "metadata": {
        "id": "view-in-github",
        "colab_type": "text"
      },
      "source": [
        "<a href=\"https://colab.research.google.com/github/Adetayo047/number_to_hausa/blob/main/number_to_hausa_word.ipynb\" target=\"_parent\"><img src=\"https://colab.research.google.com/assets/colab-badge.svg\" alt=\"Open In Colab\"/></a>"
      ]
    },
    {
      "cell_type": "code",
      "execution_count": 1,
      "metadata": {
        "id": "sChs-aHEOGFf"
      },
      "outputs": [],
      "source": [
        "def number_to_hausa(n):\n",
        "    # Hausa word mappings for numbers\n",
        "    ones = {\n",
        "        1: \"Daya\", 2: \"Biyu\", 3: \"Uku\", 4: \"Hudu\", 5: \"Biyar\",\n",
        "        6: \"Shida\", 7: \"Bakwai\", 8: \"Takwas\", 9: \"Tara\"\n",
        "    }\n",
        "\n",
        "    tens = {\n",
        "        10: \"Goma\", 20: \"Ashirin\", 30: \"Talatin\", 40: \"Arba'in\",\n",
        "        50: \"Hamsin\", 60: \"Sittin\", 70: \"Saba'in\", 80: \"Tamanin\", 90: \"Tis'in\"\n",
        "    }\n",
        "\n",
        "    scales = {\n",
        "        100: \"Dari\", 1000: \"Dubu\", 1000000: \"Miliyan\", 1000000000: \"Biliyan\"\n",
        "    }\n",
        "\n",
        "    # Recursive function to convert a number to Hausa words\n",
        "    def convert_to_hausa(n):\n",
        "        if n == 0:\n",
        "            return \"\"\n",
        "\n",
        "        if n < 10:  # Handle numbers between 1-9\n",
        "            return ones.get(n, \"\")\n",
        "\n",
        "        elif n < 100:  # Handle numbers between 10-99\n",
        "            if n in tens:\n",
        "                return tens[n]\n",
        "            else:\n",
        "                return tens[n // 10 * 10] + \" da \" + ones[n % 10]\n",
        "\n",
        "        elif n < 1000:  # Handle numbers between 100-999\n",
        "            if n % 100 == 0:\n",
        "                return ones[n // 100] + \" \" + scales[100]\n",
        "            else:\n",
        "                return ones[n // 100] + \" \" + scales[100] + \" da \" + convert_to_hausa(n % 100)\n",
        "\n",
        "        elif n < 1000000:  # Handle numbers between 1,000-999,999\n",
        "            if n % 1000 == 0:\n",
        "                return convert_to_hausa(n // 1000) + \" \" + scales[1000]\n",
        "            else:\n",
        "                return convert_to_hausa(n // 1000) + \" \" + scales[1000] + \" da \" + convert_to_hausa(n % 1000)\n",
        "\n",
        "        elif n < 1000000000:  # Handle numbers between 1,000,000-999,999,999\n",
        "            if n % 1000000 == 0:\n",
        "                return convert_to_hausa(n // 1000000) + \" \" + scales[1000000]\n",
        "            else:\n",
        "                return convert_to_hausa(n // 1000000) + \" \" + scales[1000000] + \" da \" + convert_to_hausa(n % 1000000)\n",
        "\n",
        "        else:  # Handle numbers between 1,000,000,000-999,999,999,999\n",
        "            if n % 1000000000 == 0:\n",
        "                return convert_to_hausa(n // 1000000000) + \" \" + scales[1000000000]\n",
        "            else:\n",
        "                return convert_to_hausa(n // 1000000000) + \" \" + scales[1000000000] + \" da \" + convert_to_hausa(n % 1000000000)\n",
        "\n",
        "    # Convert the number to Hausa words\n",
        "    if n == 0:\n",
        "        return \"Sifiri\"  # Hausa word for zero\n",
        "    else:\n",
        "        return convert_to_hausa(n)\n",
        "\n"
      ]
    },
    {
      "cell_type": "code",
      "source": [
        "# Test the function with a large number\n",
        "print(number_to_hausa(11))"
      ],
      "metadata": {
        "colab": {
          "base_uri": "https://localhost:8080/"
        },
        "id": "ymobuDj6OQ3b",
        "outputId": "38343a4e-35a7-48b1-b194-0e20af313939"
      },
      "execution_count": 3,
      "outputs": [
        {
          "output_type": "stream",
          "name": "stdout",
          "text": [
            "Goma da Daya\n"
          ]
        }
      ]
    },
    {
      "cell_type": "code",
      "source": [
        "def number_to_hausa(n):\n",
        "    # Hausa word mappings for basic numbers\n",
        "    ones = {\n",
        "        0: \"sifiri\", 1: \"ɗaya\", 2: \"biyu\", 3: \"uku\", 4: \"huɗu\", 5: \"biyar\",\n",
        "        6: \"shida\", 7: \"bakwai\", 8: \"takwas\", 9: \"tara\"\n",
        "    }\n",
        "\n",
        "    teens = {\n",
        "        11: \"goma sha ɗaya\", 12: \"goma sha biyu\", 13: \"goma sha uku\", 14: \"goma sha huɗu\",\n",
        "        15: \"goma sha biyar\", 16: \"goma sha shida\", 17: \"goma sha bakwai\", 18: \"goma sha takwas\",\n",
        "        19: \"goma sha tara\"\n",
        "    }\n",
        "\n",
        "    tens = {\n",
        "        10: \"goma\", 20: \"ashirin\", 30: \"talatin\", 40: \"arba’in\",\n",
        "        50: \"hamsin\", 60: \"sittin\", 70: \"saba’in\", 80: \"tamanin\", 90: \"tis’in\"\n",
        "    }\n",
        "\n",
        "    scales = {\n",
        "        100: \"ɗari\", 1000: \"dubu\", 1000000: \"miliyan\", 1000000000: \"biliyan\"\n",
        "    }\n",
        "\n",
        "    # Function to convert the number to Hausa words\n",
        "    def convert_to_hausa(n):\n",
        "        if n == 0:\n",
        "            return \"sifiri\"\n",
        "\n",
        "        if n < 10:  # Handle numbers 0-9\n",
        "            return ones[n]\n",
        "\n",
        "        elif n < 20:  # Handle numbers 11-19\n",
        "            if n in teens:\n",
        "                return teens[n]\n",
        "            else:\n",
        "                return tens[10] + \" sha \" + ones[n % 10]\n",
        "\n",
        "        elif n < 100:  # Handle numbers 20-99\n",
        "            if n in tens:\n",
        "                return tens[n]\n",
        "            else:\n",
        "                return tens[n // 10 * 10] + \" da \" + ones[n % 10]\n",
        "\n",
        "        elif n < 1000:  # Handle numbers 100-999\n",
        "            if n % 100 == 0:\n",
        "                return ones[n // 100] + \" \" + scales[100] if n != 100 else scales[100]\n",
        "            else:\n",
        "                return ones[n // 100] + \" \" + scales[100] + \" da \" + convert_to_hausa(n % 100)\n",
        "\n",
        "        elif n < 1000000:  # Handle numbers 1,000-999,999\n",
        "            if n % 1000 == 0:\n",
        "                return convert_to_hausa(n // 1000) + \" \" + scales[1000]\n",
        "            else:\n",
        "                return convert_to_hausa(n // 1000) + \" \" + scales[1000] + \" da \" + convert_to_hausa(n % 1000)\n",
        "\n",
        "        elif n < 1000000000:  # Handle numbers 1,000,000-999,999,999\n",
        "            if n % 1000000 == 0:\n",
        "                return convert_to_hausa(n // 1000000) + \" \" + scales[1000000]\n",
        "            else:\n",
        "                return convert_to_hausa(n // 1000000) + \" \" + scales[1000000] + \" da \" + convert_to_hausa(n % 1000000)\n",
        "\n",
        "        else:  # Handle numbers 1,000,000,000 and above\n",
        "            if n % 1000000000 == 0:\n",
        "                return convert_to_hausa(n // 1000000000) + \" \" + scales[1000000000]\n",
        "            else:\n",
        "                return convert_to_hausa(n // 1000000000) + \" \" + scales[1000000000] + \" da \" + convert_to_hausa(n % 1000000000)\n",
        "\n",
        "    # Start conversion\n",
        "    return convert_to_hausa(n)\n"
      ],
      "metadata": {
        "id": "0Bcp_UIeOTDp"
      },
      "execution_count": 13,
      "outputs": []
    },
    {
      "cell_type": "code",
      "source": [
        "# Test the function\n",
        "print(number_to_hausa(10))\n"
      ],
      "metadata": {
        "colab": {
          "base_uri": "https://localhost:8080/"
        },
        "id": "NrH94McjbN38",
        "outputId": "cf59c149-759a-4058-b4aa-e34fe29bbba1"
      },
      "execution_count": 15,
      "outputs": [
        {
          "output_type": "stream",
          "name": "stdout",
          "text": [
            "goma sha sifiri\n"
          ]
        }
      ]
    },
    {
      "cell_type": "code",
      "source": [
        "import re\n",
        "\n",
        "# Function to convert a number to Hausa words\n",
        "def number_to_hausa(n):\n",
        "    n = int(n)  # Convert string input to an integer\n",
        "    ones = {\n",
        "        0: \"sifiri\", 1: \"ɗaya\", 2: \"biyu\", 3: \"uku\", 4: \"huɗu\", 5: \"biyar\",\n",
        "        6: \"shida\", 7: \"bakwai\", 8: \"takwas\", 9: \"tara\"\n",
        "    }\n",
        "\n",
        "    teens = {\n",
        "        11: \"goma sha ɗaya\", 12: \"goma sha biyu\", 13: \"goma sha uku\", 14: \"goma sha huɗu\",\n",
        "        15: \"goma sha biyar\", 16: \"goma sha shida\", 17: \"goma sha bakwai\", 18: \"goma sha takwas\",\n",
        "        19: \"goma sha tara\"\n",
        "    }\n",
        "\n",
        "    tens = {\n",
        "        10: \"goma\", 20: \"ashirin\", 30: \"talatin\", 40: \"arba’in\",\n",
        "        50: \"hamsin\", 60: \"sittin\", 70: \"saba’in\", 80: \"tamanin\", 90: \"tis’in\"\n",
        "    }\n",
        "\n",
        "    scales = {\n",
        "        100: \"ɗari\", 1000: \"dubu\", 1000000: \"miliyan\", 1000000000: \"biliyan\"\n",
        "    }\n",
        "\n",
        "    def convert_to_hausa(n):\n",
        "        if n == 0:\n",
        "            return \"sifiri\"\n",
        "\n",
        "        if n < 10:\n",
        "            return ones[n]\n",
        "\n",
        "        elif n < 20:\n",
        "            if n in teens:\n",
        "                return teens[n]\n",
        "            else:\n",
        "                return tens[10] + \" sha \" + ones[n % 10]\n",
        "\n",
        "        elif n < 100:\n",
        "            if n in tens:\n",
        "                return tens[n]\n",
        "            else:\n",
        "                return tens[n // 10 * 10] + \" da \" + ones[n % 10]\n",
        "\n",
        "        elif n < 1000:\n",
        "            if n % 100 == 0:\n",
        "                return ones[n // 100] + \" \" + scales[100] if n != 100 else scales[100]\n",
        "            else:\n",
        "                return ones[n // 100] + \" \" + scales[100] + \" da \" + convert_to_hausa(n % 100)\n",
        "\n",
        "        elif n < 1000000:\n",
        "            if n % 1000 == 0:\n",
        "                return convert_to_hausa(n // 1000) + \" \" + scales[1000]\n",
        "            else:\n",
        "                return convert_to_hausa(n // 1000) + \" \" + scales[1000] + \" da \" + convert_to_hausa(n % 1000)\n",
        "\n",
        "        elif n < 1000000000:\n",
        "            if n % 1000000 == 0:\n",
        "                return convert_to_hausa(n // 1000000) + \" \" + scales[1000000]\n",
        "            else:\n",
        "                return convert_to_hausa(n // 1000000) + \" \" + scales[1000000] + \" da \" + convert_to_hausa(n % 1000000)\n",
        "\n",
        "        else:\n",
        "            if n % 1000000000 == 0:\n",
        "                return convert_to_hausa(n // 1000000000) + \" \" + scales[1000000000]\n",
        "            else:\n",
        "                return convert_to_hausa(n // 1000000000) + \" \" + scales[1000000000] + \" da \" + convert_to_hausa(n % 1000000000)\n",
        "\n",
        "    return convert_to_hausa(n)\n",
        "\n",
        "# Preprocess function that converts numbers in text to Hausa words\n",
        "def preprocess_text(text):\n",
        "    text = re.sub(r'\\d+', lambda x: number_to_hausa(x.group()), text)\n",
        "    return text\n",
        "\n",
        "\n"
      ],
      "metadata": {
        "id": "KZGkDRFUbVHy"
      },
      "execution_count": 23,
      "outputs": []
    },
    {
      "cell_type": "code",
      "source": [
        "# Test the preprocess_text function\n",
        "sample_text = \"Ina kwana., 2023\"\n",
        "print(preprocess_text(sample_text))"
      ],
      "metadata": {
        "colab": {
          "base_uri": "https://localhost:8080/"
        },
        "id": "zABDn6P4kwFN",
        "outputId": "ec24c2ea-7fd7-4d1d-a7f5-b05096065f36"
      },
      "execution_count": 25,
      "outputs": [
        {
          "output_type": "stream",
          "name": "stdout",
          "text": [
            "Ina kwana., biyu dubu da ashirin da uku\n"
          ]
        }
      ]
    },
    {
      "cell_type": "code",
      "source": [
        "number_to_hausa(2023)"
      ],
      "metadata": {
        "colab": {
          "base_uri": "https://localhost:8080/",
          "height": 36
        },
        "id": "M3KoncZPkxCY",
        "outputId": "0dcfb63c-1bad-494b-b240-d86bf4e8ed2a"
      },
      "execution_count": 21,
      "outputs": [
        {
          "output_type": "execute_result",
          "data": {
            "text/plain": [
              "'biyu dubu da ashirin da uku'"
            ],
            "application/vnd.google.colaboratory.intrinsic+json": {
              "type": "string"
            }
          },
          "metadata": {},
          "execution_count": 21
        }
      ]
    },
    {
      "cell_type": "code",
      "source": [],
      "metadata": {
        "id": "g0tX5FxpnE1X"
      },
      "execution_count": null,
      "outputs": []
    }
  ]
}